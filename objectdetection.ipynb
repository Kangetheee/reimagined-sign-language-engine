{
 "cells": [
  {
   "cell_type": "code",
   "execution_count": 1,
   "id": "99e6a089-73c2-4d64-9cb8-a290f8650c2a",
   "metadata": {},
   "outputs": [],
   "source": [
    "import cv2\n",
    "import os\n",
    "import time\n",
    "import uuid"
   ]
  },
  {
   "cell_type": "code",
   "execution_count": 5,
   "id": "69d94e81-d184-4722-ba63-75fef91fbf51",
   "metadata": {},
   "outputs": [],
   "source": [
    "IMAGES_PATH = \"Tensorflow/workspace/images/CollectedImages\""
   ]
  },
  {
   "cell_type": "code",
   "execution_count": 7,
   "id": "9d2c0e95-3485-4ca7-aea6-e0897301beea",
   "metadata": {},
   "outputs": [],
   "source": [
    "image_labels = ['hello', 'thank you', 'yes', 'no', 'I love you']\n",
    "number_of_images = 18"
   ]
  },
  {
   "cell_type": "code",
   "execution_count": null,
   "id": "689e39ec-e439-432a-ac58-fca1b08340ec",
   "metadata": {},
   "outputs": [],
   "source": [
    "for label  in image_label:\n",
    "    !mkdir {'Tensorflow\\workspace\\images\\CollectedImages\\\\' + label}\n",
    "    captures = cv2.VideoCapture(0)\n",
    "    print(\"Collecting Images for {}\".format(label))\n",
    "    time.sleep(5)\n",
    "    for imgnum in range(number_of_images):\n",
    "        ret, frame = captures.read()\n",
    "        imagename = os.path.join(IMAGES_PATH, label, label+'.'+'{}.jpg'.format(str(uuid.uuid1())))\n",
    "        cv2.imwrite(imagename, frame)\n",
    "        cv2.imshow('frame', frame)\n",
    "        time.sleep(2)\n",
    "\n",
    "        if cv2.waitKey(1) && 0xFF == ord('q'):\n",
    "            break\n",
    "    captures.release()"
   ]
  }
 ],
 "metadata": {
  "kernelspec": {
   "display_name": "Python [conda env:base] *",
   "language": "python",
   "name": "conda-base-py"
  },
  "language_info": {
   "codemirror_mode": {
    "name": "ipython",
    "version": 3
   },
   "file_extension": ".py",
   "mimetype": "text/x-python",
   "name": "python",
   "nbconvert_exporter": "python",
   "pygments_lexer": "ipython3",
   "version": "3.12.7"
  }
 },
 "nbformat": 4,
 "nbformat_minor": 5
}
